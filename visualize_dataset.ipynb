{
 "metadata": {
  "language_info": {
   "codemirror_mode": {
    "name": "ipython",
    "version": 3
   },
   "file_extension": ".py",
   "mimetype": "text/x-python",
   "name": "python",
   "nbconvert_exporter": "python",
   "pygments_lexer": "ipython3",
   "version": 3
  },
  "orig_nbformat": 2
 },
 "nbformat": 4,
 "nbformat_minor": 2,
 "cells": [
  {
   "cell_type": "code",
   "execution_count": null,
   "metadata": {},
   "outputs": [],
   "source": [
    "from generator import DataGenerator"
   ]
  },
  {
   "cell_type": "code",
   "execution_count": null,
   "metadata": {},
   "outputs": [],
   "source": [
    "dg = DataGenerator(\n",
    "    batch_size = 4,\n",
    "    num_vid_frames=4, \n",
    "    framerate=30,\n",
    "    samplerate=16000, \n",
    "    max_vid_frames=100,\n",
    "    noise_std=0.01,\n",
    "    center_fft=True, \n",
    "    use_polar=True, \n",
    "    shuffle_files=True, \n",
    "    data_path = \"/content/drive/MyDrive/MagPhaseLAVSE/processed\"\n",
    ")\n",
    "gen = dg.generator()"
   ]
  },
  {
   "cell_type": "code",
   "execution_count": null,
   "metadata": {},
   "outputs": [],
   "source": [
    "x, y = next(gen)\n",
    "\n",
    "x_rect = dg.reverse_process_fft(x[0])\n",
    "y_rect = dg.reverse_process_fft(y[0])\n",
    "\n",
    "x_pol = dg.decenter_fft_bins(x[0])\n",
    "y_pol = dg.decenter_fft_bins(y[0])\n",
    "\n",
    "x_audio = dg.ifft(x_rect)\n",
    "y_audio = dg.ifft(y_rect)\n",
    "\n",
    "for i in range(len(x_rect)):\n",
    "  plt.subplot(1,2,1)\n",
    "  plt.imshow(x[1][i, 0, :, :, :], cmap=\"gray\")\n",
    "  plt.subplot(1,2,2)\n",
    "  plt.imshow(x[1][i, x[1].shape[1]-1, :, :, :], cmap=\"gray\")\n",
    "  plt.show()\n",
    "\n",
    "  plt.plot(tf.transpose(x_pol[i, :]))\n",
    "  plt.show()\n",
    "\n",
    "  plt.plot(tf.transpose(x[0][i, :]))\n",
    "  plt.show()\n",
    "\n",
    "\n",
    "  plt.plot(np.real(x_rect[i, :]))\n",
    "  plt.plot(np.imag(x_rect[i, :]))\n",
    "  plt.show()\n",
    "\n",
    "  plt.plot(x_audio[i, :])\n",
    "  plt.show()\n",
    "\n",
    "  plt.plot(tf.transpose(y_pol[i, :]))\n",
    "  plt.show()\n",
    "\n",
    "  plt.plot(np.real(y_rect[i, :]))\n",
    "  plt.plot(np.imag(y_rect[i, :]))\n",
    "  plt.show()\n",
    "\n",
    "  plt.plot(y_audio[i, :])\n",
    "  plt.show()"
   ]
  }
 ]
}