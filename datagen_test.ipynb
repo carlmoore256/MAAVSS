{
 "metadata": {
  "language_info": {
   "codemirror_mode": {
    "name": "ipython",
    "version": 3
   },
   "file_extension": ".py",
   "mimetype": "text/x-python",
   "name": "python",
   "nbconvert_exporter": "python",
   "pygments_lexer": "ipython3",
   "version": "3.7.9"
  },
  "orig_nbformat": 2,
  "kernelspec": {
   "name": "python379jvsc74a57bd0f24af7ff3890cac290630b98cd4de2d178de4e0ec6c7e0f8f52d5ee9d62eae58",
   "display_name": "Python 3.7.9 64-bit"
  },
  "metadata": {
   "interpreter": {
    "hash": "f24af7ff3890cac290630b98cd4de2d178de4e0ec6c7e0f8f52d5ee9d62eae58"
   }
  }
 },
 "nbformat": 4,
 "nbformat_minor": 2,
 "cells": [
  {
   "cell_type": "code",
   "execution_count": 1,
   "metadata": {},
   "outputs": [],
   "source": [
    "import generator\n",
    "import tensorflow as tf"
   ]
  },
  {
   "cell_type": "code",
   "execution_count": 2,
   "metadata": {},
   "outputs": [
    {
     "output_type": "stream",
     "name": "stdout",
     "text": [
      "./data/raw\\flute\n",
      "./data/raw\\flute\\audio/Aimo from anime Macross Frontier, sung by Ranka Lee (Megumi Nakajima), flute solo cover.wav\n",
      "C:\\Users\\Carl\\AppData\\Local\\Programs\\Python\\Python37\\lib\\site-packages\\numpy\\core\\_asarray.py:83: VisibleDeprecationWarning: Creating an ndarray from ragged nested sequences (which is a list-or-tuple of lists-or-tuples-or ndarrays with different lengths or shapes) is deprecated. If you meant to do this, you must specify 'dtype=object' when creating the ndarray\n",
      "  return array(a, dtype, copy=False, order=order)\n",
      "\n",
      " LOADED VID \n",
      "\n",
      "FRAMES SHAPE (2093,)\n",
      "AUDIO SHAPE (1116787, 1)\n",
      "./data/raw\\flute\n",
      "./data/raw\\flute\\audio/Aimo from anime Macross Frontier, sung by Ranka Lee (Megumi Nakajima), flute solo cover.wav\n",
      "\n",
      " LOADED VID \n",
      "\n",
      "FRAMES SHAPE (2093,)\n",
      "AUDIO SHAPE (1116787, 1)\n"
     ]
    }
   ],
   "source": [
    "dg = generator.DataGenerator(\n",
    "    batch_size = 4,\n",
    "    num_vid_frames = 4,\n",
    "    framerate = 30,\n",
    "    samplerate = 16000,\n",
    "    data_path = \"./data/raw\"\n",
    ")\n",
    "gen = dg.generator()"
   ]
  },
  {
   "cell_type": "code",
   "execution_count": null,
   "metadata": {},
   "outputs": [],
   "source": [
    "print(next(gen))"
   ]
  },
  {
   "cell_type": "code",
   "execution_count": null,
   "metadata": {},
   "outputs": [],
   "source": []
  }
 ]
}